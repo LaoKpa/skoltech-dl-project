{
 "cells": [
  {
   "cell_type": "code",
   "execution_count": 0,
   "metadata": {
    "colab": {},
    "colab_type": "code",
    "id": "dSdwnkviOByF"
   },
   "outputs": [],
   "source": [
    "import numpy as np\n",
    "import pandas as pd\n",
    "import matplotlib.pyplot as plt\n",
    "%matplotlib inline\n",
    "\n",
    "import torch\n",
    "\n",
    "import torch.nn as nn\n",
    "from torch.nn import functional as F\n",
    "from torch.utils.data import Dataset"
   ]
  },
  {
   "cell_type": "code",
   "execution_count": 2,
   "metadata": {
    "colab": {
     "base_uri": "https://localhost:8080/",
     "height": 34
    },
    "colab_type": "code",
    "id": "ysmd7iigRVge",
    "outputId": "17c26a67-20cf-4902-f40e-c2dcc76ab9c3"
   },
   "outputs": [
    {
     "name": "stdout",
     "output_type": "stream",
     "text": [
      "GPU 0: Tesla P100-PCIE-16GB (UUID: GPU-32f0d354-d4b5-5535-3054-6b7e4690bf35)\n"
     ]
    }
   ],
   "source": [
    "!nvidia-smi -L"
   ]
  },
  {
   "cell_type": "code",
   "execution_count": 0,
   "metadata": {
    "colab": {},
    "colab_type": "code",
    "id": "k5WljPY43h0E"
   },
   "outputs": [],
   "source": [
    "class PrintLayer(nn.Module):\n",
    "    def __init__(self, name=''):\n",
    "        super().__init__()\n",
    "        self.name = name\n",
    "\n",
    "    def forward(self, x):\n",
    "        print(self.name, x.shape)\n",
    "        return x\n",
    "\n",
    "\n",
    "class CNN_1(nn.Module):\n",
    "    \"\"\"\n",
    "    The CNN architecture for working with LOB dataset proposed in the paper\n",
    "    Forecasting Stock Prices from the Limit Order Book using Convolutional Neural Networks\n",
    "    \"\"\"\n",
    "    def __init__(self, input_cnn=1, n_filters_1=16, n_filters_2=32, depth=100):\n",
    "        \"\"\"\n",
    "        input_cnn: number of input channels \n",
    "        n_filters_1: number of filters in 2D convolutions\n",
    "        n_filters_2: number of filters in 1D convolutions\n",
    "        depth: vertical shape of input matrix X = [X_0, X_1, ..., X_100]^T\n",
    "        \n",
    "        input size is (16, 1, 100, 40)\n",
    "        \"\"\"\n",
    "        super().__init__()\n",
    "            \n",
    "        self.conv_block_2d = nn.Sequential(\n",
    "            nn.ZeroPad2d((0,0,2,1)),                               # (16, 1, 103, 40)\n",
    "            nn.Conv2d(input_cnn, n_filters_1, kernel_size=(4,40)), # (16, 16, 100, 1)\n",
    "            nn.LeakyReLU(),)\n",
    "        self.conv_block_1d = nn.Sequential(\n",
    "            nn.ConstantPad1d((2, 1), 0),                           # (16, 16, 103)\n",
    "            )\n",
    "        self.conv_block_1d_proceed = nn.Sequential(\n",
    "            nn.Conv1d(n_filters_1, n_filters_1, kernel_size=(4,)), # (16, 16, 100)\n",
    "            nn.LeakyReLU(),\n",
    "            nn.ConstantPad1d((1, 0), 0),                           # (16, 16, 101)\n",
    "            nn.MaxPool1d(kernel_size=(2,), stride=(1,)),           # (16, 16, 100)\n",
    "            nn.Conv1d(n_filters_1, n_filters_2, kernel_size=(3,), padding=1), # (16, 32, 100)\n",
    "            nn.LeakyReLU(),\n",
    "            nn.Conv1d(n_filters_2, n_filters_2, kernel_size=(3,), padding=1), # (16, 32, 100)\n",
    "            nn.LeakyReLU(),\n",
    "            nn.ConstantPad1d((1, 0), 0),                           # (16, 16, 101)\n",
    "            nn.MaxPool1d(kernel_size=(2,), stride=(1,)),           # (16, 32, 100)\n",
    "            )\n",
    "        \n",
    "        self.fc = nn.Linear(n_filters_2*depth, 3)                  # (16, 3)\n",
    "\n",
    "    def reset_hidden_state(self):\n",
    "        \"\"\"\n",
    "        just for the code integrity, nedeed in LSTM\n",
    "        \"\"\"\n",
    "        pass\n",
    "\n",
    "    def forward(self, x):\n",
    "        x = self.conv_block_2d(x).squeeze(3)\n",
    "        x = self.conv_block_1d(x)\n",
    "        x = self.conv_block_1d_proceed(x)\n",
    "\n",
    "        x = x.view(-1, x.shape[1]*x.shape[2])\n",
    "        out = self.fc(x)\n",
    "\n",
    "        return out"
   ]
  },
  {
   "cell_type": "code",
   "execution_count": 0,
   "metadata": {
    "colab": {},
    "colab_type": "code",
    "id": "5OI4fcARagk-"
   },
   "outputs": [],
   "source": [
    "class LSTM(nn.Module):\n",
    "    \"\"\"\n",
    "    The LSTM architecture for working with LOB dataset proposed in the paper\n",
    "    'Using Deep Learning to Detect Price Change Indications in Financial Markets'\n",
    "    in Signal Processing Conference (EUSIPCO), 2017 25th European. IEEE, 2017, pp. 2511–2515.\n",
    "    \"\"\"\n",
    "    def __init__(self, input_dim=40, hidden_dim=40, seq_len=100, num_class=3, num_layers=2):\n",
    "        \"\"\"\n",
    "        input shape is (seq_len, batch, input_size)\n",
    "\n",
    "        input_dim: The number of expected features in the input (in our case 40)\n",
    "        hidden_dim: The number of features in the hidden state h\n",
    "        seq_len: length of sequence (100 in our case)\n",
    "        num_class: number of predicting classes (output dim of NN)\n",
    "        \"\"\"\n",
    "        super().__init__()\n",
    "        self.input_dim = input_dim\n",
    "        self.hidden_dim = hidden_dim\n",
    "        self.seq_len = seq_len\n",
    "        self.num_layers = num_layers\n",
    " \n",
    "        self.lstm = nn.LSTM(self.input_dim, self.hidden_dim, \n",
    "                            self.num_layers, dropout=0.2)\n",
    " \n",
    "        self.linear = nn.Sequential(\n",
    "            nn.Linear(self.hidden_dim, num_class),\n",
    "            nn.LeakyReLU()\n",
    "        )\n",
    "        self.apply(self.weights_init)\n",
    "    \n",
    "    def weights_init(self, m):\n",
    "        for name, param in m.named_parameters():\n",
    "            if 'bias_ih' in name:\n",
    "                nn.init.zeros_(param)\n",
    "            elif 'bias_hh' in name:\n",
    "                nn.init.zeros_(param)\n",
    "            elif 'weight_ih' in name:\n",
    "                nn.init.xavier_uniform_(param)\n",
    "            elif 'weight_hh' in name:\n",
    "                nn.init.orthogonal_(param)\n",
    "        \n",
    "    def forward(self, sequences):\n",
    "        lstm_out, _ = self.lstm(sequences.view(len(sequences), \n",
    "                                                        self.seq_len, -1))\n",
    "        last_time_step = lstm_out.view(self.seq_len, len(sequences), self.hidden_dim)[-1]\n",
    "        y_pred = self.linear(last_time_step)\n",
    "        \n",
    "        return y_pred"
   ]
  },
  {
   "cell_type": "code",
   "execution_count": 5,
   "metadata": {
    "colab": {
     "base_uri": "https://localhost:8080/",
     "height": 34
    },
    "colab_type": "code",
    "id": "Wi8ldrNQgSsh",
    "outputId": "ccb5dfe4-ea38-4adc-b2ce-106d0994600b"
   },
   "outputs": [
    {
     "name": "stdout",
     "output_type": "stream",
     "text": [
      "cuda:0\n"
     ]
    }
   ],
   "source": [
    "DEVICE = torch.device(\"cuda:0\" if torch.cuda.is_available() else \"cpu\")\n",
    "print(DEVICE)"
   ]
  },
  {
   "cell_type": "code",
   "execution_count": 0,
   "metadata": {
    "colab": {},
    "colab_type": "code",
    "id": "vaFzWCjfhg6C"
   },
   "outputs": [],
   "source": [
    "from sklearn.metrics import f1_score, recall_score, precision_score\n",
    "\n",
    "def metrics_score(true, pred):\n",
    "    \"\"\"\n",
    "    The function calculates the metrics: f1, recall, precision\n",
    "    It used inside training function\n",
    "    \n",
    "    true: true labels\n",
    "    predict: predict labels\n",
    "    \"\"\"\n",
    "    pred_class = torch.argmax(pred, dim=1, keepdim=False)\n",
    "\n",
    "    pred_class = pred_class.cpu().detach().numpy()\n",
    "    true = true.cpu().detach().numpy()\n",
    "\n",
    "    f1 = f1_score(true, pred_class, average='macro')\n",
    "    recall = recall_score(true, pred_class, average='macro')\n",
    "    precision = precision_score(true, pred_class, average='macro')\n",
    "\n",
    "    return f1, recall, precision"
   ]
  },
  {
   "cell_type": "code",
   "execution_count": 0,
   "metadata": {
    "colab": {},
    "colab_type": "code",
    "id": "v0-5tr3jTkPQ"
   },
   "outputs": [],
   "source": [
    "def run_epoch(model, optimizer, criterion, dataloader, epoch, mode='train', device=DEVICE):\n",
    "    \"\"\"\n",
    "    The function which deals with epoch running\n",
    "    \"\"\"\n",
    "    if mode=='train':\n",
    "        model.train()\n",
    "    else:\n",
    "        model.eval()\n",
    "    epoch_loss = 0.0\n",
    "    # f1_overall, rec_overall, prec_overall = 0.0, 0.0, 0.0\n",
    "    for i, (X, y) in enumerate(dataloader):\n",
    "        X = X.to(device)\n",
    "        y = y.to(device)\n",
    "\n",
    "        iteration_n = epoch * i + i\n",
    "        # model.hidden = model.reset_hidden_state()\n",
    "        y_pred = model(X)\n",
    "\n",
    "        loss = criterion(y_pred, y)\n",
    "        \n",
    "        if optimizer is not None:\n",
    "            optimizer.zero_grad()\n",
    "            loss.backward()\n",
    "            optimizer.step()\n",
    "        epoch_loss += loss.item()\n",
    "\n",
    "        # f1, recall, precision = metrics_score(y, y_pred)\n",
    "        # f1_overall += f1\n",
    "        # rec_overall += recall\n",
    "        # prec_overall += precision\n",
    "    \n",
    "    return epoch_loss / len(dataloader)#, f1_overall / len(dataloader), \\\n",
    "            # rec_overall / len(dataloader), prec_overall / len(dataloader)"
   ]
  },
  {
   "cell_type": "code",
   "execution_count": 0,
   "metadata": {
    "colab": {},
    "colab_type": "code",
    "id": "iJWkmsrRR5pM"
   },
   "outputs": [],
   "source": [
    "from collections import defaultdict\n",
    "\n",
    "def train(model, optimizer, criterion, train_loader, val_loader, n_epochs,\n",
    "          scheduler=None, checkpoint=True, early_stopping=False, es_patience=10, freq=None, verbose=True):\n",
    "    \"\"\"\n",
    "    main training function\n",
    "    It return the trained model and results dictionary with all stats collected while training\n",
    "    loss values and metrics defined in metrics_score function\n",
    "    \"\"\"\n",
    "    if verbose and freq is None:\n",
    "        freq = max(1, n_epochs // 10)\n",
    "\n",
    "    best_val_loss = float('+inf')\n",
    "    bad_epochs = 0\n",
    "    results = defaultdict(list)\n",
    "    \n",
    "    for epoch in range(n_epochs):\n",
    "        train_loss = run_epoch(model, optimizer, criterion, train_loader, epoch, 'train')\n",
    "        val_loss = run_epoch(model, None, criterion, val_loader, epoch, 'val')\n",
    "        # train_loss, f1_train, rec_train, prec_train = run_epoch(model, optimizer, criterion, train_loader, epoch, 'train')\n",
    "        # val_loss, f1_val, rec_val, prec_val = run_epoch(model, None, criterion, val_loader, epoch, 'val')\n",
    "        \n",
    "        results['train_loss'].append(train_loss)\n",
    "        # results['f1_train'].append(f1_train)\n",
    "        # results['rec_train'].append(rec_train)\n",
    "        # results['prec_train'].append(prec_train)\n",
    "        results['val_loss'].append(val_loss)\n",
    "        # results['f1_val'].append(f1_val)\n",
    "        # results['rec_val'].append(rec_val)\n",
    "        # results['prec_val'].append(prec_val)\n",
    "\n",
    "        if val_loss < best_val_loss:\n",
    "            best_val_loss = val_loss\n",
    "            \n",
    "            if checkpoint:\n",
    "                torch.save(model.state_dict(), './model_best_20days_pred.pth')\n",
    "        \n",
    "        if scheduler is not None:\n",
    "            scheduler.step(val_loss)\n",
    "        if verbose and epoch % freq == 0:\n",
    "            print(\"Epoch {}: train loss - {} | validation loss - {}\".format(epoch, train_loss, val_loss))\n",
    "            # print(f'\\t f1_val={round(f1_val, 3)}, rec_val={round(rec_val, 3)}, prec_val={round(prec_val, 3)}')\n",
    "        \n",
    "        if early_stopping:\n",
    "            bad_epochs += 1\n",
    "            if bad_epochs > es_patience:\n",
    "                print(\"Stopped at\", epoch, \"because patience threshold for epochs\",\\\n",
    "                      \"without validation loss improvement was reached.\")\n",
    "                break\n",
    "\n",
    "    return model, results"
   ]
  },
  {
   "cell_type": "code",
   "execution_count": 0,
   "metadata": {
    "colab": {},
    "colab_type": "code",
    "id": "6f7tz_NWBdSF"
   },
   "outputs": [],
   "source": [
    "def plot_save_results(results, length_fore):\n",
    "    \"\"\"\n",
    "    results: dict with history of train and validation losses and accuracies\n",
    "    length_fore: number of days in the future the forecast is made\n",
    "    \"\"\"\n",
    "    length = len(results['train_loss'])\n",
    "\n",
    "    fig, axes = plt.subplots(nrows=1, ncols=2, figsize=(20, 6))\n",
    "    \n",
    "    axes[0].plot(list(range(1, length+1)), results['train_loss'], label='train loss')\n",
    "    axes[0].plot(list(range(1, length+1)), results['val_loss'], label='validation loss')\n",
    "\n",
    "    axes[1].plot(list(range(1, length+1)), results['f1_val'], label='f1')\n",
    "    axes[1].plot(list(range(1, length+1)), results['rec_val'], label='recall')\n",
    "    axes[1].plot(list(range(1, length+1)), results['prec_val'], label='precision')\n",
    "\n",
    "    axes[0].legend(fontsize=12)\n",
    "    axes[1].legend(fontsize=12)\n",
    "\n",
    "    axes[0].set_xlabel('epocs #', fontsize=15)\n",
    "    axes[1].set_xlabel('epocs #', fontsize=15)\n",
    "\n",
    "    axes[0].set_title(f'Loss, forecast length {length_fore}', fontsize=15)\n",
    "    axes[1].set_title(f'Metrics on validation, forecast length {length_fore}', fontsize=15);\n",
    "\n",
    "    plt.savefig(f'stats, fore_len_{length_fore}.png')"
   ]
  },
  {
   "cell_type": "markdown",
   "metadata": {
    "colab_type": "text",
    "id": "2gHK39csp3rG"
   },
   "source": [
    "# LOB dataset"
   ]
  },
  {
   "cell_type": "code",
   "execution_count": 0,
   "metadata": {
    "colab": {},
    "colab_type": "code",
    "id": "LRzcavXODmg1"
   },
   "outputs": [],
   "source": [
    "import torch\n",
    "import random\n",
    "\n",
    "np.random.seed(0)\n",
    "random.seed(0)\n",
    "torch.manual_seed(0)\n",
    "\n",
    "torch.backends.cudnn.deterministic = True\n",
    "torch.backends.cudnn.benchmark = False"
   ]
  },
  {
   "cell_type": "markdown",
   "metadata": {
    "colab_type": "text",
    "id": "S0kjBMf3LIlo"
   },
   "source": [
    "### Load data\n"
   ]
  },
  {
   "cell_type": "code",
   "execution_count": 0,
   "metadata": {
    "colab": {
     "base_uri": "https://localhost:8080/",
     "height": 122
    },
    "colab_type": "code",
    "id": "e3xP8Au4KDEF",
    "outputId": "8d1b3b41-25e6-4389-b43a-d0f69efdbaa5"
   },
   "outputs": [
    {
     "name": "stdout",
     "output_type": "stream",
     "text": [
      "Go to this URL in a browser: https://accounts.google.com/o/oauth2/auth?client_id=947318989803-6bn6qk8qdgf4n4g3pfee6491hc0brc4i.apps.googleusercontent.com&redirect_uri=urn%3aietf%3awg%3aoauth%3a2.0%3aoob&response_type=code&scope=email%20https%3a%2f%2fwww.googleapis.com%2fauth%2fdocs.test%20https%3a%2f%2fwww.googleapis.com%2fauth%2fdrive%20https%3a%2f%2fwww.googleapis.com%2fauth%2fdrive.photos.readonly%20https%3a%2f%2fwww.googleapis.com%2fauth%2fpeopleapi.readonly\n",
      "\n",
      "Enter your authorization code:\n",
      "··········\n",
      "Mounted at /content/drive\n"
     ]
    }
   ],
   "source": [
    "# Detect if we are in Google Colaboratory\n",
    "try:\n",
    "    import google.colab\n",
    "    IN_COLAB = True\n",
    "except ImportError:\n",
    "    IN_COLAB = False\n",
    "\n",
    "\n",
    "if IN_COLAB:\n",
    "    google.colab.drive.mount(\"/content/drive\")\n",
    "    \n",
    "    # Change this if you created the shortcut in a different location\n",
    "    AUX_DATA_ROOT = \"/content/drive/My Drive/FI2010\"\n",
    "    \n",
    "else:\n",
    "    AUX_DATA_ROOT = './FI-2010'"
   ]
  },
  {
   "cell_type": "code",
   "execution_count": 0,
   "metadata": {
    "colab": {},
    "colab_type": "code",
    "id": "y_iumMODCWk3"
   },
   "outputs": [],
   "source": [
    "import os\n",
    "\n",
    "train_data = np.load(os.path.join(AUX_DATA_ROOT, 'train_data.npy'))\n",
    "val_data = np.load(os.path.join(AUX_DATA_ROOT, 'val_data.npy'))\n",
    "test_data = np.load(os.path.join(AUX_DATA_ROOT, 'test_data.npy'))\n",
    "train_labels = np.load(os.path.join(AUX_DATA_ROOT, 'train_labels.npy'))\n",
    "val_labels = np.load(os.path.join(AUX_DATA_ROOT, 'val_labels.npy'))\n",
    "test_labels = np.load(os.path.join(AUX_DATA_ROOT, 'test_labels.npy'))"
   ]
  },
  {
   "cell_type": "code",
   "execution_count": 0,
   "metadata": {
    "colab": {
     "base_uri": "https://localhost:8080/",
     "height": 68
    },
    "colab_type": "code",
    "id": "uBv8yD70CeTP",
    "outputId": "db8a0f39-6793-4976-8354-4aac6fccd17d"
   },
   "outputs": [
    {
     "name": "stdout",
     "output_type": "stream",
     "text": [
      "(254750, 40)\n",
      "(107650, 40)\n",
      "(31937, 40)\n"
     ]
    }
   ],
   "source": [
    "print(train_data.shape)\n",
    "print(val_data.shape)\n",
    "print(test_data.shape)"
   ]
  },
  {
   "cell_type": "code",
   "execution_count": 0,
   "metadata": {
    "colab": {},
    "colab_type": "code",
    "id": "vINmxayDErkd"
   },
   "outputs": [],
   "source": [
    "class FI_Dataset_CNN(Dataset):\n",
    "    \n",
    "    def __init__(self, X, y, T, target_num=0):\n",
    "        self.T = T\n",
    "        self.X = torch.from_numpy(X).unsqueeze(0).float()\n",
    "        self.y = torch.from_numpy(y[T - 1:, target_num]).long() - 1\n",
    "    \n",
    "    def __len__(self):\n",
    "        return len(self.X[0]) - self.T\n",
    "    \n",
    "    def __getitem__(self, idx):\n",
    "        return self.X[:, idx:idx+self.T], self.y[idx]\n",
    "\n",
    "\n",
    "class FI_Dataset_LSTM(Dataset):\n",
    "    \n",
    "    def __init__(self, X, y, T, target_num=0):\n",
    "        self.T = T\n",
    "        self.X = torch.from_numpy(X).float()\n",
    "        self.y = torch.from_numpy(y[T - 1:, target_num]).long() - 1\n",
    "    \n",
    "    def __len__(self):\n",
    "        return len(self.X) - self.T\n",
    "    \n",
    "    def __getitem__(self, idx):\n",
    "        return self.X[idx:idx+self.T], self.y[idx]"
   ]
  },
  {
   "cell_type": "code",
   "execution_count": 0,
   "metadata": {
    "colab": {},
    "colab_type": "code",
    "id": "BkhGKwpLDdKN"
   },
   "outputs": [],
   "source": [
    "MODEL_TYPE = 'LSTM' # set the model type. Possible variants are 'LSTM' and 'CNN'"
   ]
  },
  {
   "cell_type": "code",
   "execution_count": 0,
   "metadata": {
    "colab": {},
    "colab_type": "code",
    "id": "20meQMh7ERZa"
   },
   "outputs": [],
   "source": [
    "if MODEL_TYPE=='LSTM':\n",
    "    train_dataset = FI_Dataset_LSTM(train_data, train_labels, T=100, target_num=4)\n",
    "    val_dataset = FI_Dataset_LSTM(val_data, val_labels, T=100, target_num=4)\n",
    "    test_dataset = FI_Dataset_LSTM(test_data, test_labels, T=100, target_num=4)\n",
    "elif MODEL_TYPE=='CNN':\n",
    "    train_dataset = FI_Dataset_CNN(train_data, train_labels, T=100, target_num=0)\n",
    "    val_dataset = FI_Dataset_CNN(val_data, val_labels, T=100, target_num=0)\n",
    "    test_dataset = FI_Dataset_CNN(test_data, test_labels, T=100, target_num=0)\n",
    "else:\n",
    "    print('Such architecture have not been implemented yet')\n",
    "    raise SystemExit\n",
    "\n",
    "\n",
    "TRAIN_BATCH_SIZE = 16\n",
    "train_loader = torch.utils.data.DataLoader(dataset=train_dataset, batch_size=TRAIN_BATCH_SIZE, shuffle=True)\n",
    "\n",
    "VAL_BATCH_SIZE = 16\n",
    "val_loader = torch.utils.data.DataLoader(dataset=val_dataset, batch_size=VAL_BATCH_SIZE, shuffle=True)\n",
    "\n",
    "TEST_BATCH_SIZE = 16\n",
    "test_loader = torch.utils.data.DataLoader(dataset=test_dataset, batch_size=TEST_BATCH_SIZE, shuffle=False)"
   ]
  },
  {
   "cell_type": "code",
   "execution_count": 0,
   "metadata": {
    "colab": {
     "base_uri": "https://localhost:8080/",
     "height": 34
    },
    "colab_type": "code",
    "id": "-ixChyamEUCG",
    "outputId": "61f288e4-5525-404d-bf92-f755aa88cb26"
   },
   "outputs": [
    {
     "name": "stdout",
     "output_type": "stream",
     "text": [
      "torch.Size([16, 100, 40]) torch.Size([16])\n"
     ]
    }
   ],
   "source": [
    "for i, (X,y) in enumerate(train_loader):\n",
    "    print(X.shape, y.shape)\n",
    "    break"
   ]
  },
  {
   "cell_type": "markdown",
   "metadata": {
    "colab_type": "text",
    "id": "DJ8Vf0_5H4O_"
   },
   "source": [
    "### Train"
   ]
  },
  {
   "cell_type": "code",
   "execution_count": 0,
   "metadata": {
    "colab": {
     "base_uri": "https://localhost:8080/",
     "height": 34
    },
    "colab_type": "code",
    "id": "Y9oxHaRVB0Lx",
    "outputId": "7d67bf6c-6cc5-4065-daa8-8ebc334830df"
   },
   "outputs": [
    {
     "name": "stdout",
     "output_type": "stream",
     "text": [
      "Training LSTM\n"
     ]
    }
   ],
   "source": [
    "LR = 0.001\n",
    "N_EPOCS = 20\n",
    "\n",
    "if MODEL_TYPE=='LSTM':\n",
    "    print('Training LSTM')\n",
    "    model = LSTM(input_dim=40, hidden_dim=40, seq_len=100, num_class=3, num_layers=2).to(DEVICE)\n",
    "elif MODEL_TYPE=='CNN':\n",
    "    print('Training CNN')\n",
    "    model = CNN_1(input_cnn=1, n_filters_1=16, n_filters_2=32, depth=100).to(DEVICE)\n",
    "else:\n",
    "    print('Such architecture have not been implemented yet')\n",
    "    raise SystemExit\n",
    "\n",
    "\n",
    "optimizer = torch.optim.Adam(model.parameters(), lr=LR)\n",
    "criterion = nn.CrossEntropyLoss()"
   ]
  },
  {
   "cell_type": "code",
   "execution_count": 0,
   "metadata": {
    "colab": {
     "base_uri": "https://localhost:8080/",
     "height": 187
    },
    "colab_type": "code",
    "id": "6EH_fTVxB2M0",
    "outputId": "25582482-5670-4bf8-9d82-e25a6f27e2ed"
   },
   "outputs": [
    {
     "name": "stdout",
     "output_type": "stream",
     "text": [
      "Epoch 0: train loss - 1.051334697233579 | validation loss - 1.1837323649551712\n",
      "Epoch 2: train loss - 1.0508221802129671 | validation loss - 1.1750583583065102\n",
      "Epoch 4: train loss - 1.050440580222019 | validation loss - 1.1680600984807314\n",
      "Epoch 6: train loss - 1.0503756520053975 | validation loss - 1.1593889632649947\n",
      "Epoch 8: train loss - 1.0500498718504152 | validation loss - 1.166270247929084\n",
      "Epoch 10: train loss - 1.0501474826464434 | validation loss - 1.169712005476269\n",
      "Epoch 12: train loss - 1.0500793771157764 | validation loss - 1.1795292073986567\n",
      "Epoch 14: train loss - 1.0499267635347855 | validation loss - 1.1723647214354804\n",
      "Epoch 16: train loss - 1.0496365414451612 | validation loss - 1.170971362834103\n",
      "Epoch 18: train loss - 1.049419739443952 | validation loss - 1.1667329096184071\n"
     ]
    }
   ],
   "source": [
    "model, results = train(model, optimizer, criterion, train_loader, val_loader, N_EPOCS,\n",
    "                        scheduler=None, checkpoint=True, early_stopping=True, \n",
    "                        es_patience=10, freq=None, verbose=True)"
   ]
  },
  {
   "cell_type": "code",
   "execution_count": 0,
   "metadata": {
    "colab": {
     "base_uri": "https://localhost:8080/",
     "height": 362
    },
    "colab_type": "code",
    "id": "GKwxcXwE2FXP",
    "outputId": "6ef62900-d663-4e51-ab60-a8365ad5806e"
   },
   "outputs": [
    {
     "data": {
      "image/png": "[encoded data removed]",
      "text/plain": [
       "<Figure size 1440x432 with 2 Axes>"
      ]
     },
     "metadata": {
      "needs_background": "light",
      "tags": []
     },
     "output_type": "display_data"
    }
   ],
   "source": [
    "plot_save_results(results, length_fore=10) "
   ]
  },
  {
   "cell_type": "markdown",
   "metadata": {
    "colab_type": "text",
    "id": "MWQf49oNH_OM"
   },
   "source": [
    "### Predict"
   ]
  },
  {
   "cell_type": "code",
   "execution_count": 0,
   "metadata": {
    "colab": {
     "base_uri": "https://localhost:8080/"
    },
    "colab_type": "code",
    "id": "ZAc2qSUQ2bf4",
    "outputId": "222e7e5d-2998-4b98-f0f5-de92390e9de9"
   },
   "outputs": [
    {
     "name": "stdout",
     "output_type": "stream",
     "text": [
      "Training LSTM\n"
     ]
    },
    {
     "data": {
      "text/plain": [
       "LSTM(\n",
       "  (lstm): LSTM(40, 40, num_layers=2, dropout=0.2)\n",
       "  (linear): Sequential(\n",
       "    (0): Linear(in_features=40, out_features=3, bias=True)\n",
       "    (1): LeakyReLU(negative_slope=0.01)\n",
       "  )\n",
       ")"
      ]
     },
     "execution_count": 31,
     "metadata": {
      "tags": []
     },
     "output_type": "execute_result"
    }
   ],
   "source": [
    "if MODEL_TYPE=='LSTM':\n",
    "    print('Training LSTM')\n",
    "    model_test = LSTM(input_dim=40, hidden_dim=40, seq_len=100, num_class=3, num_layers=2).to(DEVICE)\n",
    "elif MODEL_TYPE=='CNN':\n",
    "    print('Training CNN')\n",
    "    model_test = CNN_1(input_cnn=1, n_filters_1=16, n_filters_2=32, depth=100).to(DEVICE)\n",
    "else:\n",
    "    print('Such architecture have not been implemented yet')\n",
    "    raise SystemExit\n",
    "    \n",
    "PATH = './model_best_10days_pred.pth'\n",
    "model_test.load_state_dict(torch.load(PATH))\n",
    "model_test.eval()"
   ]
  },
  {
   "cell_type": "code",
   "execution_count": 0,
   "metadata": {
    "colab": {},
    "colab_type": "code",
    "id": "gWVjgZs1CJIP"
   },
   "outputs": [],
   "source": [
    "# make predicitions on the test set usinf weights obtained wile training.\n",
    "# as a result we get y_pred_list - list of our test prediction\n",
    "# y_true_list - list of real values\n",
    "\n",
    "y_pred_list = []\n",
    "y_true_list = []\n",
    "# model.eval()\n",
    "with torch.no_grad():\n",
    "    for i, (X_batch, y_batch) in enumerate(test_loader):\n",
    "        X_batch = X_batch.to(DEVICE)\n",
    "        y_batch = y_batch.to(DEVICE)\n",
    "\n",
    "        y_test_pred = model_test(X_batch)\n",
    "        y_test_pred = torch.sigmoid(y_test_pred)\n",
    "\n",
    "        y_pred_class = torch.argmax(y_test_pred, dim=1)\n",
    "        y_pred_list.append(y_pred_class.cpu().numpy())\n",
    "\n",
    "        y_true_list.append(y_batch.cpu().numpy())\n",
    "\n",
    "\n",
    "y_pred_list = [a.tolist() for a in y_pred_list]\n",
    "y_pred_list = np.concatenate([np.reshape(y_pred_list[:-1], (-1)), y_pred_list[-1]])\n",
    "\n",
    "y_true_list = [a.tolist() for a in y_true_list]\n",
    "y_true_list = np.concatenate([np.reshape(y_true_list[:-1], (-1)), y_true_list[-1]])"
   ]
  },
  {
   "cell_type": "code",
   "execution_count": 0,
   "metadata": {
    "colab": {
     "base_uri": "https://localhost:8080/"
    },
    "colab_type": "code",
    "id": "zChQ8feD2ggQ",
    "outputId": "d495fabf-7c95-4f59-87e9-7306085b7374"
   },
   "outputs": [
    {
     "name": "stderr",
     "output_type": "stream",
     "text": [
      "/usr/local/lib/python3.6/dist-packages/sklearn/metrics/_classification.py:1272: UndefinedMetricWarning: Precision is ill-defined and being set to 0.0 in labels with no predicted samples. Use `zero_division` parameter to control this behavior.\n",
      "  _warn_prf(average, modifier, msg_start, len(result))\n"
     ]
    },
    {
     "data": {
      "text/html": [
       "<div>\n",
       "<style scoped>\n",
       "    .dataframe tbody tr th:only-of-type {\n",
       "        vertical-align: middle;\n",
       "    }\n",
       "\n",
       "    .dataframe tbody tr th {\n",
       "        vertical-align: top;\n",
       "    }\n",
       "\n",
       "    .dataframe thead th {\n",
       "        text-align: right;\n",
       "    }\n",
       "</style>\n",
       "<table border=\"1\" class=\"dataframe\">\n",
       "  <thead>\n",
       "    <tr style=\"text-align: right;\">\n",
       "      <th></th>\n",
       "      <th>f1</th>\n",
       "      <th>recall</th>\n",
       "      <th>precision</th>\n",
       "      <th>accuracy</th>\n",
       "    </tr>\n",
       "  </thead>\n",
       "  <tbody>\n",
       "    <tr>\n",
       "      <th>0</th>\n",
       "      <td>18.63</td>\n",
       "      <td>33.32</td>\n",
       "      <td>25.12</td>\n",
       "      <td>38.31</td>\n",
       "    </tr>\n",
       "  </tbody>\n",
       "</table>\n",
       "</div>"
      ],
      "text/plain": [
       "      f1  recall  precision  accuracy\n",
       "0  18.63   33.32      25.12     38.31"
      ]
     },
     "execution_count": 33,
     "metadata": {
      "tags": []
     },
     "output_type": "execute_result"
    }
   ],
   "source": [
    "# calculating metrics, compounding them into df and saving to Excel\n",
    "\n",
    "f1 = round(f1_score(y_true_list, y_pred_list, average='macro')*100, 2)\n",
    "recall = round(recall_score(y_true_list, y_pred_list, average='macro')*100, 2)\n",
    "precision = round(precision_score(y_true_list, y_pred_list, average='macro')*100, 2)\n",
    "accuracy = round((y_true_list == y_pred_list).mean()*100, 2)\n",
    "\n",
    "res = pd.DataFrame(columns=['f1', 'recall', 'precision', 'accuracy'])\n",
    "res.loc[0] = [f1, recall, precision, accuracy]\n",
    "res.to_excel('LSTM_LOB_predict10days.xlsx', index=False)\n",
    "res"
   ]
  },
  {
   "cell_type": "markdown",
   "metadata": {
    "colab_type": "text",
    "id": "yLdVoH3zRXdc"
   },
   "source": [
    "# Crypto dataset"
   ]
  },
  {
   "cell_type": "markdown",
   "metadata": {
    "colab_type": "text",
    "id": "IloAuBOXqGBa"
   },
   "source": [
    "### Load Data"
   ]
  },
  {
   "cell_type": "code",
   "execution_count": 11,
   "metadata": {
    "colab": {
     "base_uri": "https://localhost:8080/",
     "height": 122
    },
    "colab_type": "code",
    "id": "iz9Hni9C1Mov",
    "outputId": "99300287-9d7a-41ff-8a1e-10bac963c284"
   },
   "outputs": [
    {
     "name": "stdout",
     "output_type": "stream",
     "text": [
      "Go to this URL in a browser: https://accounts.google.com/o/oauth2/auth?client_id=947318989803-6bn6qk8qdgf4n4g3pfee6491hc0brc4i.apps.googleusercontent.com&redirect_uri=urn%3aietf%3awg%3aoauth%3a2.0%3aoob&response_type=code&scope=email%20https%3a%2f%2fwww.googleapis.com%2fauth%2fdocs.test%20https%3a%2f%2fwww.googleapis.com%2fauth%2fdrive%20https%3a%2f%2fwww.googleapis.com%2fauth%2fdrive.photos.readonly%20https%3a%2f%2fwww.googleapis.com%2fauth%2fpeopleapi.readonly\n",
      "\n",
      "Enter your authorization code:\n",
      "··········\n",
      "Mounted at /content/drive\n"
     ]
    }
   ],
   "source": [
    "# Detect if we are in Google Colaboratory\n",
    "try:\n",
    "    import google.colab\n",
    "    IN_COLAB = True\n",
    "except ImportError:\n",
    "    IN_COLAB = False\n",
    "\n",
    "\n",
    "if IN_COLAB:\n",
    "    google.colab.drive.mount(\"/content/drive\")\n",
    "    \n",
    "    # Change this if you created the shortcut in a different location\n",
    "    AUX_DATA_ROOT = \"/content/drive/My Drive/Processed_datatsets\"\n",
    "    \n",
    "else:\n",
    "    AUX_DATA_ROOT = './crypto_data'"
   ]
  },
  {
   "cell_type": "code",
   "execution_count": 0,
   "metadata": {
    "colab": {},
    "colab_type": "code",
    "id": "hWyMUMHCRb-z"
   },
   "outputs": [],
   "source": [
    "import os\n",
    "\n",
    "data_1 = np.load(os.path.join(AUX_DATA_ROOT, 'input_LTCUSDT_1.npy'))\n",
    "labels_1 = np.load(os.path.join(AUX_DATA_ROOT, 'labels_LTCUSDT_1.npy'))\n",
    "data_5 = np.load(os.path.join(AUX_DATA_ROOT, 'input_LTCUSDT_5.npy'))\n",
    "labels_5 = np.load(os.path.join(AUX_DATA_ROOT, 'labels_LTCUSDT_5.npy'))\n",
    "data_10 = np.load(os.path.join(AUX_DATA_ROOT, 'input_LTCUSDT_10.npy'))\n",
    "labels_10 = np.load(os.path.join(AUX_DATA_ROOT, 'labels_LTCUSDT_10.npy'))\n",
    "\n",
    "\n",
    "data_20 = np.load(os.path.join(AUX_DATA_ROOT, 'input_BTCUSDT_5_20.npy'))\n",
    "labels_20 = np.load(os.path.join(AUX_DATA_ROOT, 'labels_BTCUSDT_5_20.npy'))"
   ]
  },
  {
   "cell_type": "code",
   "execution_count": 0,
   "metadata": {
    "colab": {},
    "colab_type": "code",
    "id": "J03geT1qQ8eT"
   },
   "outputs": [],
   "source": [
    "# custom datasets for DataLoader separate for CNN and LSTM training\n",
    "\n",
    "class Crypto_Dataset(Dataset):\n",
    "    \n",
    "    def __init__(self, X, y, T):\n",
    "        self.T = T\n",
    "        self.X = torch.from_numpy(X).unsqueeze(0).float()\n",
    "        self.y = torch.from_numpy(y[T - 1:]).long() - 1\n",
    "    \n",
    "    def __len__(self):\n",
    "        return len(self.X[0]) - self.T\n",
    "    \n",
    "    def __getitem__(self, idx):\n",
    "        return self.X[:, idx:idx+self.T], self.y[idx]\n",
    "\n",
    "class Crypto_Dataset_LSTM(Dataset):\n",
    "    \n",
    "    def __init__(self, X, y, T):\n",
    "        self.T = T\n",
    "        self.X = torch.from_numpy(X).float()\n",
    "        self.y = torch.from_numpy(y[T - 1:]).long() - 1\n",
    "    \n",
    "    def __len__(self):\n",
    "        return len(self.X) - self.T\n",
    "    \n",
    "    def __getitem__(self, idx):\n",
    "        return self.X[idx:idx+self.T], self.y[idx]"
   ]
  },
  {
   "cell_type": "code",
   "execution_count": 0,
   "metadata": {
    "colab": {},
    "colab_type": "code",
    "id": "Jd4g1t8v_2fn"
   },
   "outputs": [],
   "source": [
    "# custom train test split, suitable for time series\n",
    "\n",
    "def train_test_split_(data, labels):\n",
    "    lim_tr = int(data.shape[0]*0.7) # 70% for train\n",
    "    lim_val = int(data.shape[0]*0.85) # 15% for val and 15% for test\n",
    "\n",
    "    X_train, X_val, X_test = data[:lim_tr], data[lim_tr:lim_val], data[lim_val:]\n",
    "    y_train, y_val, y_test = labels[:lim_tr], labels[lim_tr:lim_val], labels[lim_val:]\n",
    "\n",
    "    return X_train, X_val, X_test, y_train, y_val, y_test"
   ]
  },
  {
   "cell_type": "markdown",
   "metadata": {
    "colab_type": "text",
    "id": "uGw9veJbqDzC"
   },
   "source": [
    "### Train"
   ]
  },
  {
   "cell_type": "code",
   "execution_count": 0,
   "metadata": {
    "colab": {},
    "colab_type": "code",
    "id": "Qq0MGs8TRp6s"
   },
   "outputs": [],
   "source": [
    "MODEL_TYPE = 'CNN'"
   ]
  },
  {
   "cell_type": "code",
   "execution_count": 0,
   "metadata": {
    "colab": {},
    "colab_type": "code",
    "id": "ba81U-ACTDwu"
   },
   "outputs": [],
   "source": [
    "train_data, val_data, test_data, train_labels, val_labels, test_labels = train_test_split_(data_20, labels_20)\n",
    "\n",
    "if MODEL_TYPE=='LSTM':\n",
    "    train_dataset = Crypto_Dataset_LSTM(train_data, train_labels, T=60)\n",
    "    val_dataset = Crypto_Dataset_LSTM(val_data, val_labels, T=60)\n",
    "    test_dataset = Crypto_Dataset_LSTM(test_data, test_labels, T=60)\n",
    "elif MODEL_TYPE=='CNN':\n",
    "    train_dataset = Crypto_Dataset(train_data, train_labels, T=60)\n",
    "    val_dataset = Crypto_Dataset(val_data, val_labels, T=60)\n",
    "    test_dataset = Crypto_Dataset(test_data, test_labels, T=60)\n",
    "else:\n",
    "    print('Such architecture have not been implemented yet')\n",
    "    raise SystemExit\n",
    "\n",
    "\n",
    "TRAIN_BATCH_SIZE = 16\n",
    "train_loader = torch.utils.data.DataLoader(dataset=train_dataset, batch_size=TRAIN_BATCH_SIZE, shuffle=True)\n",
    "\n",
    "VAL_BATCH_SIZE = 16\n",
    "val_loader = torch.utils.data.DataLoader(dataset=val_dataset, batch_size=VAL_BATCH_SIZE, shuffle=True)\n",
    "\n",
    "TEST_BATCH_SIZE = 16\n",
    "test_loader = torch.utils.data.DataLoader(dataset=test_dataset, batch_size=TEST_BATCH_SIZE, shuffle=False)"
   ]
  },
  {
   "cell_type": "code",
   "execution_count": 17,
   "metadata": {
    "colab": {
     "base_uri": "https://localhost:8080/",
     "height": 34
    },
    "colab_type": "code",
    "id": "ghYmSh13TIzb",
    "outputId": "5f1ce964-6cb0-490b-f472-5f66213d861e"
   },
   "outputs": [
    {
     "name": "stdout",
     "output_type": "stream",
     "text": [
      "Training CNN\n"
     ]
    }
   ],
   "source": [
    "LR = 0.00001\n",
    "N_EPOCS = 60\n",
    "\n",
    "if MODEL_TYPE=='LSTM':\n",
    "    print('Training LSTM')\n",
    "    model = LSTM(input_dim=40, hidden_dim=40, seq_len=60, num_class=3, num_layers=2).to(DEVICE)\n",
    "elif MODEL_TYPE=='CNN':\n",
    "    print('Training CNN')\n",
    "    model = CNN_1(input_cnn=1, n_filters_1=16, n_filters_2=32, depth=60).to(DEVICE)\n",
    "else:\n",
    "    print('Such architecture have not been implemented yet')\n",
    "    raise SystemExit\n",
    "\n",
    "optimizer = torch.optim.Adam(model.parameters(), lr=LR)\n",
    "criterion = nn.CrossEntropyLoss()"
   ]
  },
  {
   "cell_type": "code",
   "execution_count": 18,
   "metadata": {
    "colab": {
     "base_uri": "https://localhost:8080/",
     "height": 187
    },
    "colab_type": "code",
    "id": "oGQa4HD9R27-",
    "outputId": "9becb1ec-ec59-40f9-f8ed-31e0f201d9fd"
   },
   "outputs": [
    {
     "name": "stdout",
     "output_type": "stream",
     "text": [
      "Epoch 0: train loss - 1.0475321186135957 | validation loss - 1.0678151926512074\n",
      "Epoch 6: train loss - 1.028580516839806 | validation loss - 1.0474399278407496\n",
      "Epoch 12: train loss - 1.0086566985889756 | validation loss - 1.000163894352741\n",
      "Epoch 18: train loss - 0.99980057032889 | validation loss - 1.0300791767974633\n",
      "Epoch 24: train loss - 0.9910230342650561 | validation loss - 1.0040408063806767\n",
      "Epoch 30: train loss - 0.9853868632193488 | validation loss - 1.0010552462001976\n",
      "Epoch 36: train loss - 0.9810185661935638 | validation loss - 0.9754022871008599\n",
      "Epoch 42: train loss - 0.9751528021595905 | validation loss - 0.939375496165145\n",
      "Epoch 48: train loss - 0.9712824757422164 | validation loss - 1.0055526471605487\n",
      "Epoch 54: train loss - 0.9687879489963284 | validation loss - 0.9643774426266382\n"
     ]
    }
   ],
   "source": [
    "model, results = train(model, optimizer, criterion, train_loader, val_loader, N_EPOCS,\n",
    "                        scheduler=None, checkpoint=True, early_stopping=False, \n",
    "                        es_patience=20, freq=None, verbose=True)"
   ]
  },
  {
   "cell_type": "code",
   "execution_count": 0,
   "metadata": {
    "colab": {
     "base_uri": "https://localhost:8080/",
     "height": 360
    },
    "colab_type": "code",
    "id": "-EL-qiPoZ1ei",
    "outputId": "a8ffb5c7-a325-48f0-e42a-c60931292abd"
   },
   "outputs": [
    {
     "data": {
      "image/png": "[encoded data removed]",
      "text/plain": [
       "<Figure size 1440x432 with 2 Axes>"
      ]
     },
     "metadata": {
      "needs_background": "light",
      "tags": []
     },
     "output_type": "display_data"
    }
   ],
   "source": [
    "plot_save_results(results, length_fore=5)"
   ]
  },
  {
   "cell_type": "markdown",
   "metadata": {
    "colab_type": "text",
    "id": "AEsOlzPDSAVO"
   },
   "source": [
    "### Predict"
   ]
  },
  {
   "cell_type": "code",
   "execution_count": 19,
   "metadata": {
    "colab": {
     "base_uri": "https://localhost:8080/",
     "height": 425
    },
    "colab_type": "code",
    "id": "qeiP2e42rIoc",
    "outputId": "8be79519-1029-45cd-ec20-5188562fb052"
   },
   "outputs": [
    {
     "name": "stdout",
     "output_type": "stream",
     "text": [
      "Training CNN\n"
     ]
    },
    {
     "data": {
      "text/plain": [
       "CNN_1(\n",
       "  (conv_block_2d): Sequential(\n",
       "    (0): ZeroPad2d(padding=(0, 0, 2, 1), value=0.0)\n",
       "    (1): Conv2d(1, 16, kernel_size=(4, 40), stride=(1, 1))\n",
       "    (2): LeakyReLU(negative_slope=0.01)\n",
       "  )\n",
       "  (conv_block_1d): Sequential(\n",
       "    (0): ConstantPad1d(padding=(2, 1), value=0)\n",
       "  )\n",
       "  (conv_block_1d_proceed): Sequential(\n",
       "    (0): Conv1d(16, 16, kernel_size=(4,), stride=(1,))\n",
       "    (1): LeakyReLU(negative_slope=0.01)\n",
       "    (2): ConstantPad1d(padding=(1, 0), value=0)\n",
       "    (3): MaxPool1d(kernel_size=(2,), stride=(1,), padding=0, dilation=1, ceil_mode=False)\n",
       "    (4): Conv1d(16, 32, kernel_size=(3,), stride=(1,), padding=(1,))\n",
       "    (5): LeakyReLU(negative_slope=0.01)\n",
       "    (6): Conv1d(32, 32, kernel_size=(3,), stride=(1,), padding=(1,))\n",
       "    (7): LeakyReLU(negative_slope=0.01)\n",
       "    (8): ConstantPad1d(padding=(1, 0), value=0)\n",
       "    (9): MaxPool1d(kernel_size=(2,), stride=(1,), padding=0, dilation=1, ceil_mode=False)\n",
       "  )\n",
       "  (fc): Linear(in_features=1920, out_features=3, bias=True)\n",
       ")"
      ]
     },
     "execution_count": 19,
     "metadata": {
      "tags": []
     },
     "output_type": "execute_result"
    }
   ],
   "source": [
    "if MODEL_TYPE=='LSTM':\n",
    "    print('Training LSTM')\n",
    "    model_test = LSTM(input_dim=40, hidden_dim=40, seq_len=60, num_class=3, num_layers=2).to(DEVICE)\n",
    "elif MODEL_TYPE=='CNN':\n",
    "    print('Training CNN')\n",
    "    model_test = CNN_1(input_cnn=1, n_filters_1=16, n_filters_2=32, depth=60).to(DEVICE)\n",
    "else:\n",
    "    print('Such architecture have not been implemented yet')\n",
    "    raise SystemExit\n",
    "    \n",
    "    \n",
    "PATH = './model_best_20days_pred.pth'\n",
    "model_test.load_state_dict(torch.load(PATH))\n",
    "model_test.eval()"
   ]
  },
  {
   "cell_type": "code",
   "execution_count": 0,
   "metadata": {
    "colab": {},
    "colab_type": "code",
    "id": "kFtpRY5YjaR5"
   },
   "outputs": [],
   "source": [
    "# make predicitions on the test set usinf weights obtained wile training.\n",
    "# as a result we get y_pred_list - list of our test prediction\n",
    "# y_true_list - list of real values\n",
    "\n",
    "y_pred_list = []\n",
    "y_true_list = []\n",
    "# model.eval()\n",
    "with torch.no_grad():\n",
    "    for i, (X_batch, y_batch) in enumerate(test_loader):\n",
    "        X_batch = X_batch.to(DEVICE)\n",
    "        y_batch = y_batch.to(DEVICE)\n",
    "\n",
    "        y_test_pred = model_test(X_batch)\n",
    "        y_test_pred = torch.sigmoid(y_test_pred)\n",
    "\n",
    "        y_pred_class = torch.argmax(y_test_pred, dim=1)\n",
    "        y_pred_list.append(y_pred_class.cpu().numpy())\n",
    "\n",
    "        y_true_list.append(y_batch.cpu().numpy())\n",
    "\n",
    "\n",
    "y_pred_list = [a.tolist() for a in y_pred_list]\n",
    "y_pred_list = np.concatenate([np.reshape(y_pred_list[:-1], (-1)), y_pred_list[-1]])\n",
    "\n",
    "y_true_list = [a.tolist() for a in y_true_list]\n",
    "y_true_list = np.concatenate([np.reshape(y_true_list[:-1], (-1)), y_true_list[-1]])"
   ]
  },
  {
   "cell_type": "code",
   "execution_count": 21,
   "metadata": {
    "colab": {
     "base_uri": "https://localhost:8080/",
     "height": 168
    },
    "colab_type": "code",
    "id": "EPtF_UALxd1O",
    "outputId": "41962e73-22eb-486d-afc7-2925b8a6a777"
   },
   "outputs": [
    {
     "name": "stderr",
     "output_type": "stream",
     "text": [
      "/usr/local/lib/python3.6/dist-packages/sklearn/metrics/_classification.py:1272: UndefinedMetricWarning: Recall is ill-defined and being set to 0.0 in labels with no true samples. Use `zero_division` parameter to control this behavior.\n",
      "  _warn_prf(average, modifier, msg_start, len(result))\n",
      "/usr/local/lib/python3.6/dist-packages/sklearn/metrics/_classification.py:1272: UndefinedMetricWarning: Precision is ill-defined and being set to 0.0 in labels with no predicted samples. Use `zero_division` parameter to control this behavior.\n",
      "  _warn_prf(average, modifier, msg_start, len(result))\n"
     ]
    },
    {
     "data": {
      "text/html": [
       "<div>\n",
       "<style scoped>\n",
       "    .dataframe tbody tr th:only-of-type {\n",
       "        vertical-align: middle;\n",
       "    }\n",
       "\n",
       "    .dataframe tbody tr th {\n",
       "        vertical-align: top;\n",
       "    }\n",
       "\n",
       "    .dataframe thead th {\n",
       "        text-align: right;\n",
       "    }\n",
       "</style>\n",
       "<table border=\"1\" class=\"dataframe\">\n",
       "  <thead>\n",
       "    <tr style=\"text-align: right;\">\n",
       "      <th></th>\n",
       "      <th>f1</th>\n",
       "      <th>recall</th>\n",
       "      <th>precision</th>\n",
       "      <th>accuracy</th>\n",
       "    </tr>\n",
       "  </thead>\n",
       "  <tbody>\n",
       "    <tr>\n",
       "      <th>0</th>\n",
       "      <td>15.55</td>\n",
       "      <td>13.92</td>\n",
       "      <td>24.46</td>\n",
       "      <td>20.04</td>\n",
       "    </tr>\n",
       "  </tbody>\n",
       "</table>\n",
       "</div>"
      ],
      "text/plain": [
       "      f1  recall  precision  accuracy\n",
       "0  15.55   13.92      24.46     20.04"
      ]
     },
     "execution_count": 21,
     "metadata": {
      "tags": []
     },
     "output_type": "execute_result"
    }
   ],
   "source": [
    "# calculating metrics, compounding them into df and saving to Excel\n",
    "\n",
    "f1 = round(f1_score(y_true_list, y_pred_list, average='macro')*100, 2)\n",
    "recall = round(recall_score(y_true_list, y_pred_list, average='macro')*100, 2)\n",
    "precision = round(precision_score(y_true_list, y_pred_list, average='macro')*100, 2)\n",
    "accuracy = round((y_true_list == y_pred_list).mean()*100, 2)\n",
    "\n",
    "res = pd.DataFrame(columns=['f1', 'recall', 'precision', 'accuracy'])\n",
    "res.loc[0] = [f1, recall, precision, accuracy]\n",
    "res.to_excel('LSTM_Crypto_predict20days.xlsx', index=False)\n",
    "res"
   ]
  },
  {
   "cell_type": "code",
   "execution_count": 0,
   "metadata": {
    "colab": {},
    "colab_type": "code",
    "id": "IxW6MIY6V-6Z"
   },
   "outputs": [],
   "source": []
  }
 ],
 "metadata": {
  "accelerator": "GPU",
  "colab": {
   "collapsed_sections": [],
   "name": "CNN_LSTM_baseline.ipynb",
   "provenance": []
  },
  "kernelspec": {
   "display_name": "Python 3",
   "language": "python",
   "name": "python3"
  },
  "language_info": {
   "codemirror_mode": {
    "name": "ipython",
    "version": 3
   },
   "file_extension": ".py",
   "mimetype": "text/x-python",
   "name": "python",
   "nbconvert_exporter": "python",
   "pygments_lexer": "ipython3",
   "version": "3.7.6"
  }
 },
 "nbformat": 4,
 "nbformat_minor": 1
}
